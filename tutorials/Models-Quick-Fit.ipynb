{
 "cells": [
  {
   "cell_type": "markdown",
   "metadata": {},
   "source": [
    "# Modeling 1: Make a quick fit using astropy.modeling\n",
    "\n",
    "## Authors\n",
    "Rocio Kiman, Lia Corrales, Zé Vinícius, Kelle Cruz, Stephanie T. Douglas\n",
    "\n",
    "## Learning Goals\n",
    "* Use `astroquery` to download data from Vizier\n",
    "* Use basic models in `astropy.modeling`\n",
    "* Learn common functions to fit\n",
    "* Generate a quick fit to data\n",
    "* Plot the model with the data\n",
    "* Compare different models and fitters\n",
    "\n",
    "## Keywords\n",
    "modeling, model fitting, astrostatistics, astroquery, Vizier, scipy, matplotlib, error bars, scatter plots\n",
    "\n",
    "## Summary\n",
    "In this tutorial, we will become familiar with the models available in [astropy.modeling](http://docs.astropy.org/en/stable/modeling/ ) and learn how to make a quick fit to our data."
   ]
  },
  {
   "cell_type": "markdown",
   "metadata": {},
   "source": [
    "### Imports"
   ]
  },
  {
   "cell_type": "code",
   "execution_count": 1,
   "metadata": {
    "collapsed": true,
    "execution": {
     "iopub.execute_input": "2022-01-10T18:19:23.376176Z",
     "iopub.status.busy": "2022-01-10T18:19:23.375608Z",
     "iopub.status.idle": "2022-01-10T18:19:25.519336Z",
     "shell.execute_reply": "2022-01-10T18:19:25.519792Z"
    }
   },
   "outputs": [],
   "source": [
    "import numpy as np\n",
    "import matplotlib.pyplot as plt\n",
    "from astropy.modeling import models, fitting\n",
    "from astroquery.vizier import Vizier\n",
    "import scipy.optimize\n",
    "# Make plots display in notebooks\n",
    "%matplotlib inline "
   ]
  },
  {
   "cell_type": "markdown",
   "metadata": {},
   "source": [
    "## 1) Fit a Linear model: Three steps to fit data using astropy.modeling"
   ]
  },
  {
   "cell_type": "markdown",
   "metadata": {},
   "source": [
    "We are going to start with a **linear fit to real data**. The data comes from the paper [Bhardwaj et al. 2017](https://ui.adsabs.harvard.edu/?#abs/2017A%26A...605A.100B). This is a catalog of **Type II Cepheids**, which is a type of **variable stars** that pulsate with a period between 1 and 50 days. In this part of the tutorial, we are going to measure the **Cepheids Period-Luminosity** relation using `astropy.modeling`. This relation states that if a star has a longer period, the luminosity we measure is higher.\n",
    "\n",
    "To get it, we are going to import it from [Vizier](http://vizier.u-strasbg.fr/viz-bin/VizieR) using [astroquery](http://astroquery.readthedocs.io/en/latest/vizier/vizier.html)."
   ]
  },
  {
   "cell_type": "code",
   "execution_count": 2,
   "metadata": {
    "collapsed": true,
    "execution": {
     "iopub.execute_input": "2022-01-10T18:19:25.524828Z",
     "iopub.status.busy": "2022-01-10T18:19:25.522561Z",
     "iopub.status.idle": "2022-01-10T18:19:26.585962Z",
     "shell.execute_reply": "2022-01-10T18:19:26.586368Z"
    }
   },
   "outputs": [],
   "source": [
    "catalog = Vizier.get_catalogs('J/A+A/605/A100')"
   ]
  },
  {
   "cell_type": "markdown",
   "metadata": {},
   "source": [
    "This catalog has a lot of information, but for this tutorial we are going to work only with periods and magnitudes. Let's grab them using the keywords `'Period'` and `__Ksmag__`.  Note that `'e__Ksmag_'` refers to the error bars in the magnitude measurements."
   ]
  },
  {
   "cell_type": "code",
   "execution_count": 3,
   "metadata": {
    "collapsed": true,
    "execution": {
     "iopub.execute_input": "2022-01-10T18:19:26.591063Z",
     "iopub.status.busy": "2022-01-10T18:19:26.588815Z",
     "iopub.status.idle": "2022-01-10T18:19:26.592968Z",
     "shell.execute_reply": "2022-01-10T18:19:26.592553Z"
    }
   },
   "outputs": [],
   "source": [
    "period = np.array(catalog[0]['Period']) \n",
    "log_period = np.log10(period)\n",
    "k_mag = np.array(catalog[0]['__Ksmag_'])\n",
    "k_mag_err = np.array(catalog[0]['e__Ksmag_'])"
   ]
  },
  {
   "cell_type": "markdown",
   "metadata": {},
   "source": [
    "Let's take a look at the magnitude measurements as a function of period:"
   ]
  },
  {
   "cell_type": "code",
   "execution_count": 4,
   "metadata": {
    "execution": {
     "iopub.execute_input": "2022-01-10T18:19:26.600211Z",
     "iopub.status.busy": "2022-01-10T18:19:26.599703Z",
     "iopub.status.idle": "2022-01-10T18:19:26.861362Z",
     "shell.execute_reply": "2022-01-10T18:19:26.860874Z"
    }
   },
   "outputs": [
    {
     "data": {
      "text/plain": [
       "Text(0, 0.5, 'Ks')"
      ]
     },
     "execution_count": 4,
     "metadata": {},
     "output_type": "execute_result"
    },
    {
     "data": {
      "image/png": "[encoded data removed]",
      "text/plain": [
       "<Figure size 432x288 with 1 Axes>"
      ]
     },
     "metadata": {
      "needs_background": "light"
     },
     "output_type": "display_data"
    }
   ],
   "source": [
    "plt.errorbar(log_period, k_mag, k_mag_err, fmt='k.')\n",
    "plt.xlabel(r'$\\log_{10}$(Period [days])')\n",
    "plt.ylabel('Ks')"
   ]
  },
  {
   "cell_type": "markdown",
   "metadata": {},
   "source": [
    "One could say that there is a linear relationship between log period and magnitudes. To probe it, we want to make a fit to the data. This is where `astropy.modeling` is useful. We are going to understand how in three simple lines we can make any fit we want. We are going to start with the linear fit, but first, let's understand what a model and a fitter are."
   ]
  },
  {
   "cell_type": "markdown",
   "metadata": {},
   "source": [
    "### Models in Astropy\n",
    "[Models](http://docs.astropy.org/en/stable/modeling/#using-models) in Astropy are known parametrized functions. With this format they are easy to define and to use, given that we do not need to write the function expression every time we want to use a model, just the name. They can be linear or non-linear in the variables. Some examples of models are:"
   ]
  },
  {
   "cell_type": "markdown",
   "metadata": {},
   "source": [
    "* [Gaussian1D](http://docs.astropy.org/en/stable/api/astropy.modeling.functional_models.Gaussian1D.html#astropy.modeling.functional_models.Gaussian1D)\n",
    "* [Trapezoid1D](http://docs.astropy.org/en/stable/api/astropy.modeling.functional_models.Trapezoid1D.html#astropy.modeling.functional_models.Trapezoid1D)\n",
    "* [Polynomial1D](http://docs.astropy.org/en/stable/api/astropy.modeling.polynomial.Polynomial1D.html#astropy.modeling.polynomial.Polynomial1D)\n",
    "* [Sine1D](http://docs.astropy.org/en/stable/api/astropy.modeling.functional_models.Sine1D.html#astropy.modeling.functional_models.Sine1D)\n",
    "* [Linear1D](http://docs.astropy.org/en/stable/api/astropy.modeling.functional_models.Linear1D.html#astropy.modeling.functional_models.Linear1D)\n",
    "* The [list](http://docs.astropy.org/en/stable/modeling/#module-astropy.modeling.functional_models) continues."
   ]
  },
  {
   "cell_type": "markdown",
   "metadata": {},
   "source": [
    "### Fitters in Astropy\n",
    "Fitters in Astropy are the classes resposable for making the fit. They can be linear or non-linear in the parameters (no the variable, like models). Some examples are:"
   ]
  },
  {
   "cell_type": "markdown",
   "metadata": {},
   "source": [
    "* [LevMarLSQFitter()](http://docs.astropy.org/en/stable/api/astropy.modeling.fitting.LevMarLSQFitter.html#astropy.modeling.fitting.LevMarLSQFitter)       Levenberg-Marquardt algorithm and least squares statistic.\n",
    "* [LinearLSQFitter()](http://docs.astropy.org/en/stable/api/astropy.modeling.fitting.LinearLSQFitter.html#astropy.modeling.fitting.LinearLSQFitter)       A class performing a linear least square fitting.\n",
    "* [SLSQPLSQFitter()](http://docs.astropy.org/en/stable/api/astropy.modeling.fitting.SLSQPLSQFitter.html#astropy.modeling.fitting.SLSQPLSQFitter)        SLSQP optimization algorithm and least squares statistic.\n",
    "* [SimplexLSQFitter()](http://docs.astropy.org/en/stable/api/astropy.modeling.fitting.SimplexLSQFitter.html#astropy.modeling.fitting.SimplexLSQFitter)      Simplex algorithm and least squares statistic.\n",
    "* More detailles [here](http://docs.astropy.org/en/stable/modeling/#id21)"
   ]
  },
  {
   "cell_type": "markdown",
   "metadata": {},
   "source": [
    "Now we continue with our fitting."
   ]
  },
  {
   "cell_type": "markdown",
   "metadata": {},
   "source": [
    "#### Step 1: Model"
   ]
  },
  {
   "cell_type": "markdown",
   "metadata": {},
   "source": [
    "First we need to choose which model we are going to use to fit to our data. As we said before, our data looks like a linear relation, so we are going to use a linear model. "
   ]
  },
  {
   "cell_type": "code",
   "execution_count": 5,
   "metadata": {
    "collapsed": true,
    "execution": {
     "iopub.execute_input": "2022-01-10T18:19:26.866970Z",
     "iopub.status.busy": "2022-01-10T18:19:26.865864Z",
     "iopub.status.idle": "2022-01-10T18:19:26.867508Z",
     "shell.execute_reply": "2022-01-10T18:19:26.867907Z"
    }
   },
   "outputs": [],
   "source": [
    "model = models.Linear1D()"
   ]
  },
  {
   "cell_type": "markdown",
   "metadata": {},
   "source": [
    "#### Step 2: Fitter"
   ]
  },
  {
   "cell_type": "markdown",
   "metadata": {},
   "source": [
    "Second we are going to choose the fitter we want to use. This choice is basically which method we want to use to fit the model to the data. In this case we are going to use the [Linear Least Square Fitting](https://www.mathworks.com/help/curvefit/least-squares-fitting.html). In the next exercise ([Modeling 2: Create a User Defined Model](http://learn.astropy.org/rst-tutorials/User-Defined-Model.html)) we are going to analyze how to choose the fitter. "
   ]
  },
  {
   "cell_type": "code",
   "execution_count": 6,
   "metadata": {
    "collapsed": true,
    "execution": {
     "iopub.execute_input": "2022-01-10T18:19:26.872307Z",
     "iopub.status.busy": "2022-01-10T18:19:26.871324Z",
     "iopub.status.idle": "2022-01-10T18:19:26.872902Z",
     "shell.execute_reply": "2022-01-10T18:19:26.873283Z"
    }
   },
   "outputs": [],
   "source": [
    "fitter = fitting.LinearLSQFitter() "
   ]
  },
  {
   "cell_type": "markdown",
   "metadata": {},
   "source": [
    "#### Step 3: Fit Data"
   ]
  },
  {
   "cell_type": "markdown",
   "metadata": {},
   "source": [
    "Finally, we give to our **fitter** (method to fit the data) the **model** and the **data** to perform the fit. Note that we are including weights: This means that values with higher error will have smaller weight (less importance) in the fit, and the contrary for data with smaller errors. This way of fitting is called *Weighted Linear Least Squares* and you can find more information about it [here](https://www.mathworks.com/help/curvefit/least-squares-fitting.html) or [here](https://en.wikipedia.org/wiki/Least_squares#Weighted_least_squares)."
   ]
  },
  {
   "cell_type": "code",
   "execution_count": 7,
   "metadata": {
    "execution": {
     "iopub.execute_input": "2022-01-10T18:19:26.877435Z",
     "iopub.status.busy": "2022-01-10T18:19:26.876979Z",
     "iopub.status.idle": "2022-01-10T18:19:26.881092Z",
     "shell.execute_reply": "2022-01-10T18:19:26.881472Z"
    },
    "scrolled": true
   },
   "outputs": [
    {
     "name": "stdout",
     "output_type": "stream",
     "text": [
      "Model: Linear1D\n",
      "Inputs: ('x',)\n",
      "Outputs: ('y',)\n",
      "Model set size: 1\n",
      "Parameters:\n",
      "          slope            intercept     \n",
      "    ------------------ ------------------\n",
      "    -2.098140252040483 13.418358860904107\n"
     ]
    }
   ],
   "source": [
    "best_fit = fitter(model, log_period, k_mag, weights=1.0/k_mag_err**2)\n",
    "print(best_fit)"
   ]
  },
  {
   "cell_type": "markdown",
   "metadata": {},
   "source": [
    "And that's it!\n",
    "\n",
    "We can evaluate the fit at our particular x axis by doing `best_fit(x)`."
   ]
  },
  {
   "cell_type": "code",
   "execution_count": 8,
   "metadata": {
    "execution": {
     "iopub.execute_input": "2022-01-10T18:19:26.905354Z",
     "iopub.status.busy": "2022-01-10T18:19:26.904836Z",
     "iopub.status.idle": "2022-01-10T18:19:27.021878Z",
     "shell.execute_reply": "2022-01-10T18:19:27.021410Z"
    }
   },
   "outputs": [
    {
     "data": {
      "text/plain": [
       "Text(0, 0.5, 'Ks')"
      ]
     },
     "execution_count": 8,
     "metadata": {},
     "output_type": "execute_result"
    },
    {
     "data": {
      "image/png": "[encoded data removed]",
      "text/plain": [
       "<Figure size 432x288 with 1 Axes>"
      ]
     },
     "metadata": {
      "needs_background": "light"
     },
     "output_type": "display_data"
    }
   ],
   "source": [
    "plt.errorbar(log_period,k_mag,k_mag_err,fmt='k.')\n",
    "plt.plot(log_period, best_fit(log_period), color='g', linewidth=3)  \n",
    "plt.xlabel(r'$\\log_{10}$(Period [days])')\n",
    "plt.ylabel('Ks')"
   ]
  },
  {
   "cell_type": "markdown",
   "metadata": {},
   "source": [
    "**Conclusion:** Remember, you can fit data with three lines of code:\n",
    "\n",
    "1) Choose a [model](http://docs.astropy.org/en/stable/modeling/#module-astropy.modeling.functional_models).\n",
    "\n",
    "2) Choose a [fitter](http://docs.astropy.org/en/stable/modeling/#id21).\n",
    "\n",
    "3) Pass to the fitter the model and the data to perform fit."
   ]
  },
  {
   "cell_type": "markdown",
   "metadata": {},
   "source": [
    "## Exercise"
   ]
  },
  {
   "cell_type": "markdown",
   "metadata": {},
   "source": [
    "Use the model `Polynomial1D(degree=1)` to fit the same data and compare the results."
   ]
  },
  {
   "cell_type": "code",
   "execution_count": null,
   "metadata": {
    "collapsed": true
   },
   "outputs": [],
   "source": []
  },
  {
   "cell_type": "markdown",
   "metadata": {},
   "source": [
    "## 2) Fit a Polynomial model: Choose fitter wisely"
   ]
  },
  {
   "cell_type": "markdown",
   "metadata": {},
   "source": [
    "For our second example, let's fit a polynomial of degree more than 1. In this case, we are going to create fake data to make the fit. Note that we're adding gaussian noise to the data with the function `np.random.normal(0,2)` which gives a random number from a gaussian distribution with mean 0 and standard deviation 2."
   ]
  },
  {
   "cell_type": "code",
   "execution_count": 9,
   "metadata": {
    "collapsed": true,
    "execution": {
     "iopub.execute_input": "2022-01-10T18:19:27.028211Z",
     "iopub.status.busy": "2022-01-10T18:19:27.027642Z",
     "iopub.status.idle": "2022-01-10T18:19:27.030042Z",
     "shell.execute_reply": "2022-01-10T18:19:27.030409Z"
    }
   },
   "outputs": [],
   "source": [
    "N = 100\n",
    "x1 = np.linspace(0, 4, N)  # Makes an array from 0 to 4 of N elements\n",
    "y1 = x1**3 - 6*x1**2 + 12*x1 - 9 \n",
    "# Now we add some noise to the data\n",
    "y1 += np.random.normal(0, 2, size=len(y1)) #One way to add random gaussian noise\n",
    "sigma = 1.5\n",
    "y1_err = np.ones(N)*sigma "
   ]
  },
  {
   "cell_type": "markdown",
   "metadata": {},
   "source": [
    "Let's plot it to see how it looks:"
   ]
  },
  {
   "cell_type": "code",
   "execution_count": 10,
   "metadata": {
    "execution": {
     "iopub.execute_input": "2022-01-10T18:19:27.039313Z",
     "iopub.status.busy": "2022-01-10T18:19:27.034743Z",
     "iopub.status.idle": "2022-01-10T18:19:27.165017Z",
     "shell.execute_reply": "2022-01-10T18:19:27.164550Z"
    }
   },
   "outputs": [
    {
     "data": {
      "text/plain": [
       "Text(0, 0.5, '$y_1$')"
      ]
     },
     "execution_count": 10,
     "metadata": {},
     "output_type": "execute_result"
    },
    {
     "data": {
      "image/png": "[encoded data removed]",
      "text/plain": [
       "<Figure size 432x288 with 1 Axes>"
      ]
     },
     "metadata": {
      "needs_background": "light"
     },
     "output_type": "display_data"
    }
   ],
   "source": [
    "plt.errorbar(x1, y1, yerr=y1_err,fmt='k.')\n",
    "plt.xlabel('$x_1$')  \n",
    "plt.ylabel('$y_1$')"
   ]
  },
  {
   "cell_type": "markdown",
   "metadata": {},
   "source": [
    "To fit this data let's remember the three steps: model, fitter and perform fit. "
   ]
  },
  {
   "cell_type": "code",
   "execution_count": 11,
   "metadata": {
    "collapsed": true,
    "execution": {
     "iopub.execute_input": "2022-01-10T18:19:27.172086Z",
     "iopub.status.busy": "2022-01-10T18:19:27.170342Z",
     "iopub.status.idle": "2022-01-10T18:19:27.175065Z",
     "shell.execute_reply": "2022-01-10T18:19:27.174631Z"
    }
   },
   "outputs": [],
   "source": [
    "model_poly = models.Polynomial1D(degree=3)\n",
    "fitter_poly = fitting.LinearLSQFitter() \n",
    "best_fit_poly = fitter_poly(model_poly, x1, y1, weights = 1.0/y1_err**2)"
   ]
  },
  {
   "cell_type": "code",
   "execution_count": 12,
   "metadata": {
    "execution": {
     "iopub.execute_input": "2022-01-10T18:19:27.180874Z",
     "iopub.status.busy": "2022-01-10T18:19:27.180400Z",
     "iopub.status.idle": "2022-01-10T18:19:27.184326Z",
     "shell.execute_reply": "2022-01-10T18:19:27.183662Z"
    }
   },
   "outputs": [
    {
     "name": "stdout",
     "output_type": "stream",
     "text": [
      "Model: Polynomial1D\n",
      "Inputs: ('x',)\n",
      "Outputs: ('y',)\n",
      "Model set size: 1\n",
      "Degree: 3\n",
      "Parameters:\n",
      "            c0                 c1                  c2                 c3        \n",
      "    ------------------ ------------------ ------------------- ------------------\n",
      "    -7.907652251650945 11.002882904532093 -5.6249117365105015 0.9505056942587049\n"
     ]
    }
   ],
   "source": [
    "print(best_fit_poly)"
   ]
  },
  {
   "cell_type": "markdown",
   "metadata": {},
   "source": [
    "What would happend if we use a different fitter (method)? Let's use the same model but with `SimplexLSQFitter` as fitter."
   ]
  },
  {
   "cell_type": "code",
   "execution_count": 13,
   "metadata": {
    "execution": {
     "iopub.execute_input": "2022-01-10T18:19:27.195388Z",
     "iopub.status.busy": "2022-01-10T18:19:27.193062Z",
     "iopub.status.idle": "2022-01-10T18:19:27.236140Z",
     "shell.execute_reply": "2022-01-10T18:19:27.235431Z"
    }
   },
   "outputs": [
    {
     "name": "stderr",
     "output_type": "stream",
     "text": [
      "WARNING: Model is linear in parameters; consider using linear fitting methods. [astropy.modeling.fitting]\n",
      "WARNING: The fit may be unsuccessful; Maximum number of iterations reached. [astropy.modeling.optimizers]\n"
     ]
    }
   ],
   "source": [
    "fitter_poly_2 = fitting.SimplexLSQFitter()\n",
    "best_fit_poly_2 = fitter_poly_2(model_poly, x1, y1, weights = 1.0/y1_err**2)"
   ]
  },
  {
   "cell_type": "code",
   "execution_count": 14,
   "metadata": {
    "execution": {
     "iopub.execute_input": "2022-01-10T18:19:27.241678Z",
     "iopub.status.busy": "2022-01-10T18:19:27.238442Z",
     "iopub.status.idle": "2022-01-10T18:19:27.245386Z",
     "shell.execute_reply": "2022-01-10T18:19:27.244967Z"
    }
   },
   "outputs": [
    {
     "name": "stdout",
     "output_type": "stream",
     "text": [
      "Model: Polynomial1D\n",
      "Inputs: ('x',)\n",
      "Outputs: ('y',)\n",
      "Model set size: 1\n",
      "Degree: 3\n",
      "Parameters:\n",
      "             c0                  c1                  c2                  c3        \n",
      "    -------------------- ------------------ ------------------- -------------------\n",
      "    -0.41289942345662367 0.3417205852429685 -1.2812898267509625 0.41268412110810127\n"
     ]
    }
   ],
   "source": [
    "print(best_fit_poly_2)"
   ]
  },
  {
   "cell_type": "markdown",
   "metadata": {},
   "source": [
    "Note that we got a warning after using `SimplexLSQFitter` to fit the data. The first line says:\n",
    "\n",
    "`WARNING: Model is linear in parameters; consider using linear fitting methods. [astropy.modeling.fitting]`\n",
    "\n",
    "If we look at the model we chose: $y = c_0 + c_1\\times x + c_2\\times x^2 + c_3\\times x^3$, it is linear in the parameters $c_i$. The warning means that `SimplexLSQFitter` works better with models that are not linear in the parameters, and that we should use a linear fitter like `LinearLSQFitter`. The second line says:\n",
    "\n",
    "`WARNING: The fit may be unsuccessful; Maximum number of iterations reached. [astropy.modeling.optimizers]`\n",
    "\n",
    "So it's not surprising that the results are different, because this means that the fitter is not working properly. Let's discuss a method of choosing between fits and remember to **pay attention** when you choose the **fitter**."
   ]
  },
  {
   "cell_type": "markdown",
   "metadata": {},
   "source": [
    "#### Compare results"
   ]
  },
  {
   "cell_type": "markdown",
   "metadata": {},
   "source": [
    "One way to check which model parameters are a better fit is calculating the [Reduced Chi Square Value](https://en.wikipedia.org/wiki/Reduced_chi-squared_statistic). Let's define a function to do that because we're going to use it several times."
   ]
  },
  {
   "cell_type": "code",
   "execution_count": 15,
   "metadata": {
    "collapsed": true,
    "execution": {
     "iopub.execute_input": "2022-01-10T18:19:27.250554Z",
     "iopub.status.busy": "2022-01-10T18:19:27.250088Z",
     "iopub.status.idle": "2022-01-10T18:19:27.252866Z",
     "shell.execute_reply": "2022-01-10T18:19:27.253259Z"
    }
   },
   "outputs": [],
   "source": [
    "def calc_reduced_chi_square(fit, x, y, yerr, N, n_free):\n",
    "    '''\n",
    "    fit (array) values for the fit\n",
    "    x,y,yerr (arrays) data\n",
    "    N total number of points\n",
    "    n_free number of parameters we are fitting\n",
    "    '''\n",
    "    return 1.0/(N-n_free)*sum(((fit - y)/yerr)**2)"
   ]
  },
  {
   "cell_type": "code",
   "execution_count": 16,
   "metadata": {
    "execution": {
     "iopub.execute_input": "2022-01-10T18:19:27.258199Z",
     "iopub.status.busy": "2022-01-10T18:19:27.257747Z",
     "iopub.status.idle": "2022-01-10T18:19:27.261738Z",
     "shell.execute_reply": "2022-01-10T18:19:27.261330Z"
    }
   },
   "outputs": [
    {
     "name": "stdout",
     "output_type": "stream",
     "text": [
      "Reduced Chi Squared with LinearLSQFitter: 1.701274716275817\n"
     ]
    }
   ],
   "source": [
    "reduced_chi_squared = calc_reduced_chi_square(best_fit_poly(x1), x1, y1, y1_err, N, 4)\n",
    "print('Reduced Chi Squared with LinearLSQFitter: {}'.format(reduced_chi_squared))"
   ]
  },
  {
   "cell_type": "code",
   "execution_count": 17,
   "metadata": {
    "execution": {
     "iopub.execute_input": "2022-01-10T18:19:27.266259Z",
     "iopub.status.busy": "2022-01-10T18:19:27.265807Z",
     "iopub.status.idle": "2022-01-10T18:19:27.269811Z",
     "shell.execute_reply": "2022-01-10T18:19:27.269402Z"
    }
   },
   "outputs": [
    {
     "name": "stdout",
     "output_type": "stream",
     "text": [
      "Reduced Chi Squared with SimplexLSQFitter: 3.7370136645650396\n"
     ]
    }
   ],
   "source": [
    "reduced_chi_squared = calc_reduced_chi_square(best_fit_poly_2(x1), x1, y1, y1_err, N, 4)\n",
    "print('Reduced Chi Squared with SimplexLSQFitter: {}'.format(reduced_chi_squared))"
   ]
  },
  {
   "cell_type": "markdown",
   "metadata": {},
   "source": [
    "As we can see, the *Reduced Chi Square* for the first fit is closer to one, which means this fit is better. Note that this is what we expected after the discussion of the warnings.\n",
    "\n",
    "We can also compare the two fits visually:"
   ]
  },
  {
   "cell_type": "code",
   "execution_count": 18,
   "metadata": {
    "execution": {
     "iopub.execute_input": "2022-01-10T18:19:27.286587Z",
     "iopub.status.busy": "2022-01-10T18:19:27.281014Z",
     "iopub.status.idle": "2022-01-10T18:19:27.531038Z",
     "shell.execute_reply": "2022-01-10T18:19:27.530174Z"
    }
   },
   "outputs": [
    {
     "data": {
      "text/plain": [
       "<matplotlib.legend.Legend at 0x7f28cdba0c10>"
      ]
     },
     "execution_count": 18,
     "metadata": {},
     "output_type": "execute_result"
    },
    {
     "data": {
      "image/png": "[encoded data removed]",
      "text/plain": [
       "<Figure size 432x288 with 1 Axes>"
      ]
     },
     "metadata": {
      "needs_background": "light"
     },
     "output_type": "display_data"
    }
   ],
   "source": [
    "plt.errorbar(x1, y1, yerr=y1_err,fmt='k.')\n",
    "plt.plot(x1, best_fit_poly(x1), color='r', linewidth=3, label='LinearLSQFitter()')  \n",
    "plt.plot(x1, best_fit_poly_2(x1), color='g', linewidth=3, label='SimplexLSQFitter()')\n",
    "plt.xlabel(r'$\\log_{10}$(Period [days])')\n",
    "plt.ylabel('Ks')\n",
    "plt.legend()"
   ]
  },
  {
   "cell_type": "markdown",
   "metadata": {},
   "source": [
    "Results are as espected, the fit performed with the linear fitter is better than the second, non linear one. \n",
    "\n",
    "**Conclusion:** Pay attention when you choose the fitter."
   ]
  },
  {
   "cell_type": "markdown",
   "metadata": {},
   "source": [
    "## 3) Fit a Gaussian: Let's compare to scipy"
   ]
  },
  {
   "cell_type": "markdown",
   "metadata": {},
   "source": [
    "Scipy has the function [scipy.optimize.curve_fit](https://docs.scipy.org/doc/scipy-1.0.0/reference/generated/scipy.optimize.curve_fit.html) to fit in a similar way that we are doing. Let's compare the two methods with fake data in the shape of a Gaussian."
   ]
  },
  {
   "cell_type": "code",
   "execution_count": 19,
   "metadata": {
    "collapsed": true,
    "execution": {
     "iopub.execute_input": "2022-01-10T18:19:27.538664Z",
     "iopub.status.busy": "2022-01-10T18:19:27.537471Z",
     "iopub.status.idle": "2022-01-10T18:19:27.539204Z",
     "shell.execute_reply": "2022-01-10T18:19:27.539577Z"
    }
   },
   "outputs": [],
   "source": [
    "mu, sigma, amplitude = 0.0, 10.0, 10.0\n",
    "N2 = 100\n",
    "x2 = np.linspace(-30, 30, N)\n",
    "y2 = amplitude * np.exp(-(x2-mu)**2 / (2*sigma**2))\n",
    "y2 = np.array([y_point + np.random.normal(0, 1) for y_point in y2])   #Another way to add random gaussian noise\n",
    "sigma = 1\n",
    "y2_err = np.ones(N)*sigma"
   ]
  },
  {
   "cell_type": "code",
   "execution_count": 20,
   "metadata": {
    "execution": {
     "iopub.execute_input": "2022-01-10T18:19:27.566202Z",
     "iopub.status.busy": "2022-01-10T18:19:27.564240Z",
     "iopub.status.idle": "2022-01-10T18:19:27.673976Z",
     "shell.execute_reply": "2022-01-10T18:19:27.673531Z"
    }
   },
   "outputs": [
    {
     "data": {
      "text/plain": [
       "Text(0, 0.5, '$y_2$')"
      ]
     },
     "execution_count": 20,
     "metadata": {},
     "output_type": "execute_result"
    },
    {
     "data": {
      "image/png": "[encoded data removed]",
      "text/plain": [
       "<Figure size 432x288 with 1 Axes>"
      ]
     },
     "metadata": {
      "needs_background": "light"
     },
     "output_type": "display_data"
    }
   ],
   "source": [
    "plt.errorbar(x2, y2, yerr=y2_err, fmt='k.')\n",
    "plt.xlabel('$x_2$')\n",
    "plt.ylabel('$y_2$')"
   ]
  },
  {
   "cell_type": "markdown",
   "metadata": {},
   "source": [
    "Let's do our three steps to make the fit we want. For this fit we're going to use a non-linear fitter, `LevMarLSQFitter`, because the model we need (`Gaussian1D`) is non-linear in the parameters. "
   ]
  },
  {
   "cell_type": "code",
   "execution_count": 21,
   "metadata": {
    "collapsed": true,
    "execution": {
     "iopub.execute_input": "2022-01-10T18:19:27.679981Z",
     "iopub.status.busy": "2022-01-10T18:19:27.679415Z",
     "iopub.status.idle": "2022-01-10T18:19:27.685374Z",
     "shell.execute_reply": "2022-01-10T18:19:27.684872Z"
    }
   },
   "outputs": [],
   "source": [
    "model_gauss = models.Gaussian1D()\n",
    "fitter_gauss = fitting.LevMarLSQFitter()\n",
    "best_fit_gauss = fitter_gauss(model_gauss, x2, y2, weights=1/y2_err**2)"
   ]
  },
  {
   "cell_type": "code",
   "execution_count": 22,
   "metadata": {
    "execution": {
     "iopub.execute_input": "2022-01-10T18:19:27.691617Z",
     "iopub.status.busy": "2022-01-10T18:19:27.690504Z",
     "iopub.status.idle": "2022-01-10T18:19:27.693375Z",
     "shell.execute_reply": "2022-01-10T18:19:27.692962Z"
    }
   },
   "outputs": [
    {
     "name": "stdout",
     "output_type": "stream",
     "text": [
      "Model: Gaussian1D\n",
      "Inputs: ('x',)\n",
      "Outputs: ('y',)\n",
      "Model set size: 1\n",
      "Parameters:\n",
      "        amplitude             mean               stddev     \n",
      "    ----------------- -------------------- -----------------\n",
      "    9.930271588900144 -0.11533813724518935 10.12278318320687\n"
     ]
    }
   ],
   "source": [
    "print(best_fit_gauss)"
   ]
  },
  {
   "cell_type": "markdown",
   "metadata": {},
   "source": [
    "We can get the [covariance matrix](http://mathworld.wolfram.com/CovarianceMatrix.html) from `LevMarLSQFitter`, which provides an error for our fit parameters by doing `fitter.fit_info['param_cov']`. The elements in the diagonal of this matrix are the square of the errors. We can check the order of the parameters using:"
   ]
  },
  {
   "cell_type": "code",
   "execution_count": 23,
   "metadata": {
    "execution": {
     "iopub.execute_input": "2022-01-10T18:19:27.698580Z",
     "iopub.status.busy": "2022-01-10T18:19:27.698077Z",
     "iopub.status.idle": "2022-01-10T18:19:27.700612Z",
     "shell.execute_reply": "2022-01-10T18:19:27.700995Z"
    }
   },
   "outputs": [
    {
     "data": {
      "text/plain": [
       "('amplitude', 'mean', 'stddev')"
      ]
     },
     "execution_count": 23,
     "metadata": {},
     "output_type": "execute_result"
    }
   ],
   "source": [
    "model_gauss.param_names"
   ]
  },
  {
   "cell_type": "code",
   "execution_count": 24,
   "metadata": {
    "execution": {
     "iopub.execute_input": "2022-01-10T18:19:27.706599Z",
     "iopub.status.busy": "2022-01-10T18:19:27.705559Z",
     "iopub.status.idle": "2022-01-10T18:19:27.708299Z",
     "shell.execute_reply": "2022-01-10T18:19:27.707879Z"
    }
   },
   "outputs": [
    {
     "name": "stdout",
     "output_type": "stream",
     "text": [
      "[0.05789606 0.08016476 0.08045934]\n"
     ]
    }
   ],
   "source": [
    "cov_diag = np.diag(fitter_gauss.fit_info['param_cov'])\n",
    "print(cov_diag)"
   ]
  },
  {
   "cell_type": "markdown",
   "metadata": {},
   "source": [
    "Then:"
   ]
  },
  {
   "cell_type": "code",
   "execution_count": 25,
   "metadata": {
    "execution": {
     "iopub.execute_input": "2022-01-10T18:19:27.714524Z",
     "iopub.status.busy": "2022-01-10T18:19:27.713469Z",
     "iopub.status.idle": "2022-01-10T18:19:27.716297Z",
     "shell.execute_reply": "2022-01-10T18:19:27.715874Z"
    },
    "scrolled": true
   },
   "outputs": [
    {
     "name": "stdout",
     "output_type": "stream",
     "text": [
      "Amplitude: 9.930271588900144 +\\- 0.24061599296279862\n",
      "Mean: -0.11533813724518935 +\\- 0.28313382707485035\n",
      "Standard Deviation: 10.12278318320687 +\\- 0.28365355641536083\n"
     ]
    }
   ],
   "source": [
    "print('Amplitude: {} +\\- {}'.format(best_fit_gauss.amplitude.value, np.sqrt(cov_diag[0])))\n",
    "print('Mean: {} +\\- {}'.format(best_fit_gauss.mean.value, np.sqrt(cov_diag[1])))\n",
    "print('Standard Deviation: {} +\\- {}'.format(best_fit_gauss.stddev.value, np.sqrt(cov_diag[2])))"
   ]
  },
  {
   "cell_type": "markdown",
   "metadata": {},
   "source": [
    "We can apply the same method with `scipy.optimize.curve_fit`, and compare the results using again the *Reduced Chi Square Value*."
   ]
  },
  {
   "cell_type": "code",
   "execution_count": 26,
   "metadata": {
    "collapsed": true,
    "execution": {
     "iopub.execute_input": "2022-01-10T18:19:27.721126Z",
     "iopub.status.busy": "2022-01-10T18:19:27.720128Z",
     "iopub.status.idle": "2022-01-10T18:19:27.721758Z",
     "shell.execute_reply": "2022-01-10T18:19:27.722142Z"
    }
   },
   "outputs": [],
   "source": [
    "def f(x,a,b,c):\n",
    "    return a * np.exp(-(x-b)**2/(2.0*c**2))"
   ]
  },
  {
   "cell_type": "code",
   "execution_count": 27,
   "metadata": {
    "collapsed": true,
    "execution": {
     "iopub.execute_input": "2022-01-10T18:19:27.728886Z",
     "iopub.status.busy": "2022-01-10T18:19:27.727682Z",
     "iopub.status.idle": "2022-01-10T18:19:27.729433Z",
     "shell.execute_reply": "2022-01-10T18:19:27.729820Z"
    }
   },
   "outputs": [],
   "source": [
    "p_opt, p_cov = scipy.optimize.curve_fit(f,x2, y2, sigma=y1_err)\n",
    "a,b,c = p_opt\n",
    "best_fit_gauss_2 = f(x2,a,b,c)"
   ]
  },
  {
   "cell_type": "code",
   "execution_count": 28,
   "metadata": {
    "execution": {
     "iopub.execute_input": "2022-01-10T18:19:27.733881Z",
     "iopub.status.busy": "2022-01-10T18:19:27.733405Z",
     "iopub.status.idle": "2022-01-10T18:19:27.735228Z",
     "shell.execute_reply": "2022-01-10T18:19:27.735644Z"
    }
   },
   "outputs": [
    {
     "name": "stdout",
     "output_type": "stream",
     "text": [
      "[ 9.93027176 -0.1153361  10.12278283]\n"
     ]
    }
   ],
   "source": [
    "print(p_opt)"
   ]
  },
  {
   "cell_type": "code",
   "execution_count": 29,
   "metadata": {
    "execution": {
     "iopub.execute_input": "2022-01-10T18:19:27.741872Z",
     "iopub.status.busy": "2022-01-10T18:19:27.740851Z",
     "iopub.status.idle": "2022-01-10T18:19:27.743691Z",
     "shell.execute_reply": "2022-01-10T18:19:27.743277Z"
    }
   },
   "outputs": [
    {
     "name": "stdout",
     "output_type": "stream",
     "text": [
      "Amplitude: 9.930271761717231 +\\- 0.2406153194188013\n",
      "Mean: -0.11533610353315327 +\\- 0.28313553000875585\n",
      "Standard Deviation: 10.122782826533193 +\\- 0.28365522297135276\n"
     ]
    }
   ],
   "source": [
    "print('Amplitude: {} +\\- {}'.format(p_opt[0], np.sqrt(p_cov[0,0])))\n",
    "print('Mean: {} +\\- {}'.format(p_opt[1], np.sqrt(p_cov[1,1])))\n",
    "print('Standard Deviation: {} +\\- {}'.format(p_opt[2], np.sqrt(p_cov[2,2])))"
   ]
  },
  {
   "cell_type": "markdown",
   "metadata": {},
   "source": [
    "#### Compare results"
   ]
  },
  {
   "cell_type": "code",
   "execution_count": 30,
   "metadata": {
    "execution": {
     "iopub.execute_input": "2022-01-10T18:19:27.748347Z",
     "iopub.status.busy": "2022-01-10T18:19:27.747861Z",
     "iopub.status.idle": "2022-01-10T18:19:27.749728Z",
     "shell.execute_reply": "2022-01-10T18:19:27.750104Z"
    }
   },
   "outputs": [
    {
     "name": "stdout",
     "output_type": "stream",
     "text": [
      "Reduced Chi Squared using astropy.modeling: 1.141398901258806\n"
     ]
    }
   ],
   "source": [
    "reduced_chi_squared = calc_reduced_chi_square(best_fit_gauss(x2), x2, y2, y2_err, N2, 3)\n",
    "print('Reduced Chi Squared using astropy.modeling: {}'.format(reduced_chi_squared))"
   ]
  },
  {
   "cell_type": "code",
   "execution_count": 31,
   "metadata": {
    "execution": {
     "iopub.execute_input": "2022-01-10T18:19:27.755264Z",
     "iopub.status.busy": "2022-01-10T18:19:27.754233Z",
     "iopub.status.idle": "2022-01-10T18:19:27.756932Z",
     "shell.execute_reply": "2022-01-10T18:19:27.756527Z"
    }
   },
   "outputs": [
    {
     "name": "stdout",
     "output_type": "stream",
     "text": [
      "Reduced Chi Squared using scipy: 1.1413989012592958\n"
     ]
    }
   ],
   "source": [
    "reduced_chi_squared = calc_reduced_chi_square(best_fit_gauss_2, x2, y2, y2_err, N2, 3)\n",
    "print('Reduced Chi Squared using scipy: {}'.format(reduced_chi_squared))"
   ]
  },
  {
   "cell_type": "markdown",
   "metadata": {},
   "source": [
    "As we can see there is a very small difference in the *Reduced Chi Squared*. This actually needed to happen, because the fitter in `astropy.modeling` uses scipy to fit. The advantage of using `astropy.modeling` is you only need to change the name of the fitter and the model to perform a completely different fit, while scipy require us to remember the expression of the function we wanted to use. "
   ]
  },
  {
   "cell_type": "code",
   "execution_count": 32,
   "metadata": {
    "execution": {
     "iopub.execute_input": "2022-01-10T18:19:27.790054Z",
     "iopub.status.busy": "2022-01-10T18:19:27.784843Z",
     "iopub.status.idle": "2022-01-10T18:19:27.912978Z",
     "shell.execute_reply": "2022-01-10T18:19:27.912512Z"
    }
   },
   "outputs": [
    {
     "data": {
      "text/plain": [
       "<matplotlib.legend.Legend at 0x7f28cdb41cd0>"
      ]
     },
     "execution_count": 32,
     "metadata": {},
     "output_type": "execute_result"
    },
    {
     "data": {
      "image/png": "[encoded data removed]",
      "text/plain": [
       "<Figure size 432x288 with 1 Axes>"
      ]
     },
     "metadata": {
      "needs_background": "light"
     },
     "output_type": "display_data"
    }
   ],
   "source": [
    "plt.errorbar(x2, y2, yerr=y2_err, fmt='k.')\n",
    "plt.plot(x2, best_fit_gauss(x2), 'g-', linewidth=6, label='astropy.modeling')\n",
    "plt.plot(x2, best_fit_gauss_2, 'r-', linewidth=2, label='scipy')\n",
    "plt.xlabel('$x_2$')\n",
    "plt.ylabel('$y_2$')\n",
    "plt.legend()"
   ]
  },
  {
   "cell_type": "markdown",
   "metadata": {},
   "source": [
    "**Conclusion:** Choose the method most convenient for every case you need to fit. We recomend `astropy.modeling` because is easier to write the name of the function you want to fit than to remember the expression every time we want to use it. Also, `astropy.modeling` becomes useful with more complicated models like [two gaussians](http://docs.astropy.org/en/stable/modeling/#compound-models) plus a [black body](http://docs.astropy.org/en/stable/modeling/#blackbody-radiation), but that is another tutorial."
   ]
  },
  {
   "cell_type": "markdown",
   "metadata": {},
   "source": [
    "## Summary:\n",
    "\n",
    "Let's review the conclusion we got in this tutorial:\n",
    "\n",
    "1. You can fit data with **three lines of code**:\n",
    "    * model\n",
    "    * fitter\n",
    "    * perform fit to data\n",
    "    \n",
    "    \n",
    "2. **Pay attention** when you choose the **fitter**.\n",
    "\n",
    "3. Choose the method most convenient for every case you need to fit. We recomend `astropy.modeling` to make **quick fits of known functions**."
   ]
  },
  {
   "cell_type": "markdown",
   "metadata": {},
   "source": [
    "## 4) Exercise: Your turn to choose"
   ]
  },
  {
   "cell_type": "markdown",
   "metadata": {},
   "source": [
    "For the next data:\n",
    " * Choose model and fitter to fit this data\n",
    " * Compare different options"
   ]
  },
  {
   "cell_type": "code",
   "execution_count": 33,
   "metadata": {
    "collapsed": true,
    "execution": {
     "iopub.execute_input": "2022-01-10T18:19:27.919579Z",
     "iopub.status.busy": "2022-01-10T18:19:27.919095Z",
     "iopub.status.idle": "2022-01-10T18:19:27.922414Z",
     "shell.execute_reply": "2022-01-10T18:19:27.922011Z"
    }
   },
   "outputs": [],
   "source": [
    "N3 = 100\n",
    "x3 = np.linspace(0, 3, N3)\n",
    "y3 = 5.0 * np.sin(2 * np.pi * x3)\n",
    "y3 = np.array([y_point + np.random.normal(0, 1) for y_point in y3])\n",
    "sigma = 1.5\n",
    "y3_err = np.ones(N)*sigma "
   ]
  },
  {
   "cell_type": "code",
   "execution_count": 34,
   "metadata": {
    "execution": {
     "iopub.execute_input": "2022-01-10T18:19:27.943290Z",
     "iopub.status.busy": "2022-01-10T18:19:27.926899Z",
     "iopub.status.idle": "2022-01-10T18:19:28.061993Z",
     "shell.execute_reply": "2022-01-10T18:19:28.062694Z"
    },
    "scrolled": true
   },
   "outputs": [
    {
     "data": {
      "text/plain": [
       "Text(0, 0.5, '$y_3$')"
      ]
     },
     "execution_count": 34,
     "metadata": {},
     "output_type": "execute_result"
    },
    {
     "data": {
      "image/png": "[encoded data removed]",
      "text/plain": [
       "<Figure size 432x288 with 1 Axes>"
      ]
     },
     "metadata": {
      "needs_background": "light"
     },
     "output_type": "display_data"
    }
   ],
   "source": [
    "plt.errorbar(x3, y3, yerr=y3_err, fmt='k.')\n",
    "plt.xlabel('$x_3$')\n",
    "plt.ylabel('$y_3$')"
   ]
  },
  {
   "cell_type": "code",
   "execution_count": null,
   "metadata": {
    "collapsed": true
   },
   "outputs": [],
   "source": []
  }
 ],
 "metadata": {
  "kernelspec": {
   "display_name": "Python 3",
   "language": "python",
   "name": "python3"
  },
  "language_info": {
   "codemirror_mode": {
    "name": "ipython",
    "version": 3
   },
   "file_extension": ".py",
   "mimetype": "text/x-python",
   "name": "python",
   "nbconvert_exporter": "python",
   "pygments_lexer": "ipython3",
   "version": "3.9.9"
  }
 },
 "nbformat": 4,
 "nbformat_minor": 2
}
