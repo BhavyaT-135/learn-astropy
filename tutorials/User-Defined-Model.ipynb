{
 "cells": [
  {
   "cell_type": "markdown",
   "metadata": {},
   "source": [
    "# Modeling 2: Create a User Defined Model using astropy.modeling\n",
    "\n",
    "## Authors\n",
    "Rocio Kiman, Lia Corrales, Zé Vinícius, Stephanie T. Douglas\n",
    "\n",
    "## Learning Goals\n",
    "* Define a new model with `astropy` \n",
    "* Identify cases were a user-defined model could be useful\n",
    "* Define models in two different ways:\n",
    "    * Compound models\n",
    "    * Custom models\n",
    "\n",
    "This tutorial assumes the student knows how to fit data using `astropy.modeling`. This topic is covered in the [Models-Quick-Fit tutorial](http://www.astropy.org/astropy-tutorials/rst-tutorials/Models-Quick-Fit.html).\n",
    "\n",
    "## Keywords\n",
    "modeling, FITS, astrostatistics, matplotlib, model fitting, error bars, scatter plots\n",
    "\n",
    "## Summary\n",
    "In this tutorial, we will learn how to define a new model in two ways: with a compound model and with a custom model."
   ]
  },
  {
   "cell_type": "markdown",
   "metadata": {},
   "source": [
    "<div class=\"alert alert-info\">\n",
    "\n",
    "**Note:** This tutorial assumes you have already gone through \n",
    "    [Modeling 1](http://www.astropy.org/astropy-tutorials/rst-tutorials/Models-Quick-Fit.html),\n",
    "    which provides an introduction to `astropy.modeling`\n",
    "    \n",
    "\n",
    "</div>"
   ]
  },
  {
   "cell_type": "markdown",
   "metadata": {},
   "source": [
    "### Imports"
   ]
  },
  {
   "cell_type": "code",
   "execution_count": 1,
   "metadata": {
    "execution": {
     "iopub.execute_input": "2022-06-15T18:50:21.111889Z",
     "iopub.status.busy": "2022-06-15T18:50:21.111257Z",
     "iopub.status.idle": "2022-06-15T18:50:22.329057Z",
     "shell.execute_reply": "2022-06-15T18:50:22.328422Z"
    }
   },
   "outputs": [],
   "source": [
    "import numpy as np\n",
    "import matplotlib.pyplot as plt\n",
    "from astropy.io import fits\n",
    "from astropy.modeling import models, fitting\n",
    "from astropy.modeling.models import custom_model\n",
    "from astropy.modeling import Fittable1DModel, Parameter\n",
    "from astroquery.sdss import SDSS"
   ]
  },
  {
   "cell_type": "markdown",
   "metadata": {},
   "source": [
    "### Fit an emission line in a stellar spectrum"
   ]
  },
  {
   "cell_type": "markdown",
   "metadata": {},
   "source": [
    "M dwarfs are low mass stars (less than half of the mass of the sun). Currently we do not understand completely the physics inside low mass stars because they do not behave the same way higher mass stars do. For example, they stay magnetically active longer than higher mass stars. One way to measure magnetic activity is the height of the [$H\\alpha$](https://en.wikipedia.org/wiki/H-alpha) emission line. It is located at $6563$ Angstroms at the spectrum. "
   ]
  },
  {
   "cell_type": "markdown",
   "metadata": {},
   "source": [
    "Let's search for a spectrum of an M dwarf in the Sloan Digital Sky Survey (SDSS). First, we are going to look for the spectrum in the [SDSS database](https://dr12.sdss.org/basicSpectra). SDSS has a particular way to identify the stars it observes: it uses three numbers: Plate, Fiber and MJD (Modified Julian Date). The star we are going to use has:\n",
    "* Plate: 1349\n",
    "* Fiber: 216\n",
    "* MJD: 52797\n",
    "\n",
    "So go ahead, put this numbers in the website and click on Plot to visualize the spectrum. Try to localize the $H\\alpha$ line. "
   ]
  },
  {
   "cell_type": "markdown",
   "metadata": {},
   "source": [
    "We could download the spectrum by hand from this website, but we are going to import it using the [SDSSClass](http://astroquery.readthedocs.io/en/latest/api/astroquery.sdss.SDSSClass.html) from [`astroquery.sdss`](https://astroquery.readthedocs.io/en/latest/sdss/sdss.html#module-astroquery.sdss). We can get the spectrum using the plate, fiber and mjd in the following way:"
   ]
  },
  {
   "cell_type": "code",
   "execution_count": 2,
   "metadata": {
    "execution": {
     "iopub.execute_input": "2022-06-15T18:50:22.333101Z",
     "iopub.status.busy": "2022-06-15T18:50:22.332489Z",
     "iopub.status.idle": "2022-06-15T18:50:24.340449Z",
     "shell.execute_reply": "2022-06-15T18:50:24.339796Z"
    }
   },
   "outputs": [],
   "source": [
    "spectrum = SDSS.get_spectra(plate=1349, fiberID=216, mjd=52797)[0]"
   ]
  },
  {
   "cell_type": "markdown",
   "metadata": {},
   "source": [
    "#### Now that we have the spectrum...\n",
    "One way to check what is inside the fits file `spectrum` is the following:"
   ]
  },
  {
   "cell_type": "code",
   "execution_count": 3,
   "metadata": {
    "execution": {
     "iopub.execute_input": "2022-06-15T18:50:24.344088Z",
     "iopub.status.busy": "2022-06-15T18:50:24.343462Z",
     "iopub.status.idle": "2022-06-15T18:50:24.355404Z",
     "shell.execute_reply": "2022-06-15T18:50:24.354795Z"
    }
   },
   "outputs": [
    {
     "data": {
      "text/plain": [
       "ColDefs(\n",
       "    name = 'flux'; format = 'E'\n",
       "    name = 'loglam'; format = 'E'\n",
       "    name = 'ivar'; format = 'E'\n",
       "    name = 'and_mask'; format = 'J'\n",
       "    name = 'or_mask'; format = 'J'\n",
       "    name = 'wdisp'; format = 'E'\n",
       "    name = 'sky'; format = 'E'\n",
       "    name = 'model'; format = 'E'\n",
       ")"
      ]
     },
     "execution_count": 3,
     "metadata": {},
     "output_type": "execute_result"
    }
   ],
   "source": [
    "spectrum[1].columns"
   ]
  },
  {
   "cell_type": "markdown",
   "metadata": {},
   "source": [
    "To plot the spectrum we need the flux as a function of wavelength (usually called lambda or $\\lambda$). Note that the wavelength is in log scale: loglam, so we calculate $10^\\lambda$ to remove this scale."
   ]
  },
  {
   "cell_type": "code",
   "execution_count": 4,
   "metadata": {
    "execution": {
     "iopub.execute_input": "2022-06-15T18:50:24.358482Z",
     "iopub.status.busy": "2022-06-15T18:50:24.358138Z",
     "iopub.status.idle": "2022-06-15T18:50:24.363484Z",
     "shell.execute_reply": "2022-06-15T18:50:24.362872Z"
    }
   },
   "outputs": [],
   "source": [
    "flux = spectrum[1].data['flux']\n",
    "lam = 10**(spectrum[1].data['loglam'])"
   ]
  },
  {
   "cell_type": "markdown",
   "metadata": {},
   "source": [
    "To find the units for flux and wavelength, we look in `fitsfile[0].header`.\n",
    "\n",
    "FITS standard requires that the header keyword 'bunit' or 'BUNIT' contains the physical units of the array values. That's where we'll find the flux units. "
   ]
  },
  {
   "cell_type": "code",
   "execution_count": 5,
   "metadata": {
    "execution": {
     "iopub.execute_input": "2022-06-15T18:50:24.366274Z",
     "iopub.status.busy": "2022-06-15T18:50:24.366055Z",
     "iopub.status.idle": "2022-06-15T18:50:24.369618Z",
     "shell.execute_reply": "2022-06-15T18:50:24.369007Z"
    }
   },
   "outputs": [
    {
     "name": "stdout",
     "output_type": "stream",
     "text": [
      "1E-17 erg/cm^2/s/Ang\n"
     ]
    }
   ],
   "source": [
    "#Units of the flux\n",
    "units_flux = spectrum[0].header['bunit']\n",
    "print(units_flux)"
   ]
  },
  {
   "cell_type": "markdown",
   "metadata": {},
   "source": [
    "Different sources will definite wavelength information differently, so we need to check the documentation. For example, this [SDSS tutorial](https://www.sdss.org/dr12/tutorials/quicklook/#python) tells us what header keyword to look at."
   ]
  },
  {
   "cell_type": "code",
   "execution_count": 6,
   "metadata": {
    "execution": {
     "iopub.execute_input": "2022-06-15T18:50:24.373603Z",
     "iopub.status.busy": "2022-06-15T18:50:24.373385Z",
     "iopub.status.idle": "2022-06-15T18:50:24.376888Z",
     "shell.execute_reply": "2022-06-15T18:50:24.376244Z"
    }
   },
   "outputs": [
    {
     "name": "stdout",
     "output_type": "stream",
     "text": [
      "wtype=linear label=Wavelength units=Angstroms\n"
     ]
    }
   ],
   "source": [
    "#Units of the wavelegth\n",
    "units_wavelength_full = spectrum[0].header['WAT1_001']\n",
    "print(units_wavelength_full)"
   ]
  },
  {
   "cell_type": "markdown",
   "metadata": {},
   "source": [
    "We are going to select only the characters of the unit we care about: Angstroms"
   ]
  },
  {
   "cell_type": "code",
   "execution_count": 7,
   "metadata": {
    "execution": {
     "iopub.execute_input": "2022-06-15T18:50:24.380250Z",
     "iopub.status.busy": "2022-06-15T18:50:24.380042Z",
     "iopub.status.idle": "2022-06-15T18:50:24.383352Z",
     "shell.execute_reply": "2022-06-15T18:50:24.382717Z"
    }
   },
   "outputs": [
    {
     "name": "stdout",
     "output_type": "stream",
     "text": [
      "Angstroms\n"
     ]
    }
   ],
   "source": [
    "units_wavelength = units_wavelength_full[36:]\n",
    "print(units_wavelength)"
   ]
  },
  {
   "cell_type": "markdown",
   "metadata": {},
   "source": [
    "Now we are ready to plot the spectrum with all the information."
   ]
  },
  {
   "cell_type": "code",
   "execution_count": 8,
   "metadata": {
    "execution": {
     "iopub.execute_input": "2022-06-15T18:50:24.386720Z",
     "iopub.status.busy": "2022-06-15T18:50:24.386512Z",
     "iopub.status.idle": "2022-06-15T18:50:24.503178Z",
     "shell.execute_reply": "2022-06-15T18:50:24.502632Z"
    }
   },
   "outputs": [
    {
     "data": {
      "image/png": "[encoded data removed]",
      "text/plain": [
       "<Figure size 432x288 with 1 Axes>"
      ]
     },
     "metadata": {
      "needs_background": "light"
     },
     "output_type": "display_data"
    }
   ],
   "source": [
    "plt.plot(lam, flux, color='k')\n",
    "plt.xlim(6300,6700)\n",
    "plt.axvline(x=6563, linestyle='--')\n",
    "plt.xlabel('Wavelength ({})'.format(units_wavelength))\n",
    "plt.ylabel('Flux ({})'.format(units_flux))\n",
    "plt.show()"
   ]
  },
  {
   "cell_type": "markdown",
   "metadata": {},
   "source": [
    "\n",
    "We just plotted our spectrum! Check different ranges of wavelength to see how the full spectrum looks like in comparison to the one we saw before."
   ]
  },
  {
   "cell_type": "markdown",
   "metadata": {},
   "source": [
    "## Fit an Emission Line with a Gaussian Model"
   ]
  },
  {
   "cell_type": "markdown",
   "metadata": {},
   "source": [
    "The blue dashed line marks the $H\\alpha$ emission line. We can tell this is an active star because it has a strong emission line.\n",
    "\n",
    "Now, we would like to measure the height of this line. Let's use `astropy.modeling` to fit a gaussian to the $H\\alpha$ line. We are going to initialize a gaussian model at the position of the $H\\alpha$ line. The idea is that the gaussian amplitude will tell us the height of the line."
   ]
  },
  {
   "cell_type": "code",
   "execution_count": 9,
   "metadata": {
    "execution": {
     "iopub.execute_input": "2022-06-15T18:50:24.506224Z",
     "iopub.status.busy": "2022-06-15T18:50:24.505996Z",
     "iopub.status.idle": "2022-06-15T18:50:24.545751Z",
     "shell.execute_reply": "2022-06-15T18:50:24.545153Z"
    }
   },
   "outputs": [],
   "source": [
    "gausian_model = models.Gaussian1D(1, 6563, 10)\n",
    "fitter = fitting.LevMarLSQFitter()\n",
    "gaussian_fit = fitter(gausian_model, lam, flux)"
   ]
  },
  {
   "cell_type": "markdown",
   "metadata": {},
   "source": [
    "Let's plot the results."
   ]
  },
  {
   "cell_type": "code",
   "execution_count": 10,
   "metadata": {
    "execution": {
     "iopub.execute_input": "2022-06-15T18:50:24.548961Z",
     "iopub.status.busy": "2022-06-15T18:50:24.548440Z",
     "iopub.status.idle": "2022-06-15T18:50:24.702518Z",
     "shell.execute_reply": "2022-06-15T18:50:24.701897Z"
    }
   },
   "outputs": [
    {
     "data": {
      "image/png": "[encoded data removed]",
      "text/plain": [
       "<Figure size 576x360 with 1 Axes>"
      ]
     },
     "metadata": {
      "needs_background": "light"
     },
     "output_type": "display_data"
    }
   ],
   "source": [
    "plt.figure(figsize=(8,5))\n",
    "plt.plot(lam, flux, color='k')\n",
    "plt.plot(lam, gaussian_fit(lam), color='darkorange')\n",
    "plt.xlim(6300,6700)\n",
    "plt.xlabel('Wavelength (Angstroms)')\n",
    "plt.ylabel('Flux ({})'.format(units_flux))\n",
    "plt.show()"
   ]
  },
  {
   "cell_type": "markdown",
   "metadata": {},
   "source": [
    "We can see the fit is not doing a good job. Let's print the parameters of this fit:"
   ]
  },
  {
   "cell_type": "code",
   "execution_count": 11,
   "metadata": {
    "execution": {
     "iopub.execute_input": "2022-06-15T18:50:24.706281Z",
     "iopub.status.busy": "2022-06-15T18:50:24.705683Z",
     "iopub.status.idle": "2022-06-15T18:50:24.711987Z",
     "shell.execute_reply": "2022-06-15T18:50:24.711420Z"
    }
   },
   "outputs": [
    {
     "name": "stdout",
     "output_type": "stream",
     "text": [
      "Model: Gaussian1D\n",
      "Inputs: ('x',)\n",
      "Outputs: ('y',)\n",
      "Model set size: 1\n",
      "Parameters:\n",
      "        amplitude             mean             stddev     \n",
      "    ------------------ ----------------- -----------------\n",
      "    16.750706286489784 9456.749529382625 2368.395705667002\n"
     ]
    }
   ],
   "source": [
    "print(gaussian_fit)"
   ]
  },
  {
   "cell_type": "markdown",
   "metadata": {},
   "source": [
    "## Exercise \n",
    "\n",
    "Go back to the previous plot and try to make the fit work. Note: **Do not spend more than 10 minutes** in this exercise. A couple of ideas to try: \n",
    "* Is it not working because of the model we chose to fit? You can find more models to use [here](http://docs.astropy.org/en/stable/modeling/#module-astropy.modeling.functional_models).\n",
    "* Is it not working because of the fitter we chose?\n",
    "* Is it not working because of the range of data we are fitting? \n",
    "* Is it not working because how we are plotting the data? "
   ]
  },
  {
   "cell_type": "markdown",
   "metadata": {},
   "source": [
    "# Compound models"
   ]
  },
  {
   "cell_type": "markdown",
   "metadata": {},
   "source": [
    "One model is not enough to make this fit work. We need to combine a couple of models to make a [compound model](http://docs.astropy.org/en/stable/modeling/#compound-models) in `astropy`. The idea is that we can add, divide or multiply models that already exist in [astropy.modeling](http://docs.astropy.org/en/stable/modeling/#models-and-fitting-astropy-modeling) and fit the compound model to our data.\n",
    "\n",
    "For our problem we are going to combine the gaussian with a polynomial of degree 1 to account for the background spectrum close to the $H\\alpha$ line. Take a look at the plot we made before to convince yourself that this is the case.\n",
    "\n",
    "Now let's make our compound model!"
   ]
  },
  {
   "cell_type": "code",
   "execution_count": 12,
   "metadata": {
    "execution": {
     "iopub.execute_input": "2022-06-15T18:50:24.715004Z",
     "iopub.status.busy": "2022-06-15T18:50:24.714785Z",
     "iopub.status.idle": "2022-06-15T18:50:24.718737Z",
     "shell.execute_reply": "2022-06-15T18:50:24.718095Z"
    }
   },
   "outputs": [],
   "source": [
    "compound_model = models.Gaussian1D(1, 6563, 10) + models.Polynomial1D(degree=1)"
   ]
  },
  {
   "cell_type": "markdown",
   "metadata": {},
   "source": [
    "After this point, we fit the data in exactly the same way as before, except we use a compound model instead of the gaussian model."
   ]
  },
  {
   "cell_type": "code",
   "execution_count": 13,
   "metadata": {
    "execution": {
     "iopub.execute_input": "2022-06-15T18:50:24.721547Z",
     "iopub.status.busy": "2022-06-15T18:50:24.721338Z",
     "iopub.status.idle": "2022-06-15T18:50:24.744892Z",
     "shell.execute_reply": "2022-06-15T18:50:24.744328Z"
    }
   },
   "outputs": [],
   "source": [
    "fitter = fitting.LevMarLSQFitter()\n",
    "compound_fit = fitter(compound_model, lam, flux)"
   ]
  },
  {
   "cell_type": "code",
   "execution_count": 14,
   "metadata": {
    "execution": {
     "iopub.execute_input": "2022-06-15T18:50:24.747434Z",
     "iopub.status.busy": "2022-06-15T18:50:24.747224Z",
     "iopub.status.idle": "2022-06-15T18:50:24.856095Z",
     "shell.execute_reply": "2022-06-15T18:50:24.855532Z"
    }
   },
   "outputs": [
    {
     "data": {
      "image/png": "[encoded data removed]",
      "text/plain": [
       "<Figure size 576x360 with 1 Axes>"
      ]
     },
     "metadata": {
      "needs_background": "light"
     },
     "output_type": "display_data"
    }
   ],
   "source": [
    "plt.figure(figsize=(8,5))\n",
    "plt.plot(lam, flux, color='k')\n",
    "plt.plot(lam, compound_fit(lam), color='darkorange')\n",
    "plt.xlim(6300,6700)\n",
    "plt.xlabel('Wavelength (Angstroms)')\n",
    "plt.ylabel('Flux ({})'.format(units_flux))\n",
    "plt.show()"
   ]
  },
  {
   "cell_type": "markdown",
   "metadata": {},
   "source": [
    "It works! Let's take a look to the fit we just made. "
   ]
  },
  {
   "cell_type": "code",
   "execution_count": 15,
   "metadata": {
    "execution": {
     "iopub.execute_input": "2022-06-15T18:50:24.859060Z",
     "iopub.status.busy": "2022-06-15T18:50:24.858656Z",
     "iopub.status.idle": "2022-06-15T18:50:24.863635Z",
     "shell.execute_reply": "2022-06-15T18:50:24.862971Z"
    }
   },
   "outputs": [
    {
     "name": "stdout",
     "output_type": "stream",
     "text": [
      "Model: CompoundModel\n",
      "Inputs: ('x',)\n",
      "Outputs: ('y',)\n",
      "Model set size: 1\n",
      "Expression: [0] + [1]\n",
      "Components: \n",
      "    [0]: <Gaussian1D(amplitude=7.02089174, mean=6564.13631715, stddev=1.97761475)>\n",
      "\n",
      "    [1]: <Polynomial1D(1, c0=-12.79335619, c1=0.00323995)>\n",
      "Parameters:\n",
      "       amplitude_0          mean_0      ...         c0_1                c1_1        \n",
      "    ----------------- ----------------- ... ------------------- --------------------\n",
      "    7.020891743992038 6564.136317149307 ... -12.793356186323782 0.003239952053201798\n"
     ]
    }
   ],
   "source": [
    "print(compound_fit)"
   ]
  },
  {
   "cell_type": "markdown",
   "metadata": {},
   "source": [
    "Let's print all the parameters in a fancy way:"
   ]
  },
  {
   "cell_type": "code",
   "execution_count": 16,
   "metadata": {
    "execution": {
     "iopub.execute_input": "2022-06-15T18:50:24.866369Z",
     "iopub.status.busy": "2022-06-15T18:50:24.866155Z",
     "iopub.status.idle": "2022-06-15T18:50:24.869832Z",
     "shell.execute_reply": "2022-06-15T18:50:24.869215Z"
    }
   },
   "outputs": [
    {
     "name": "stdout",
     "output_type": "stream",
     "text": [
      "amplitude_0 7.020891743992038\n",
      "mean_0 6564.136317149307\n",
      "stddev_0 1.9776147549595713\n",
      "c0_1 -12.793356186323782\n",
      "c1_1 0.003239952053201798\n"
     ]
    }
   ],
   "source": [
    "for x,y in zip(compound_fit.param_names, compound_fit.parameters):\n",
    "    print(x,y)"
   ]
  },
  {
   "cell_type": "markdown",
   "metadata": {},
   "source": [
    "We can see that the result includes all the fit parameters from the gaussian (mean, std and amplitude) and the two coefficients from the polynomial of degree 1. So now if we want to see just the amplitude:"
   ]
  },
  {
   "cell_type": "code",
   "execution_count": 17,
   "metadata": {
    "execution": {
     "iopub.execute_input": "2022-06-15T18:50:24.872587Z",
     "iopub.status.busy": "2022-06-15T18:50:24.872375Z",
     "iopub.status.idle": "2022-06-15T18:50:24.876209Z",
     "shell.execute_reply": "2022-06-15T18:50:24.875621Z"
    }
   },
   "outputs": [
    {
     "data": {
      "text/plain": [
       "Parameter('amplitude', value=7.020891743992038)"
      ]
     },
     "execution_count": 17,
     "metadata": {},
     "output_type": "execute_result"
    }
   ],
   "source": [
    "compound_fit.amplitude_0"
   ]
  },
  {
   "cell_type": "markdown",
   "metadata": {},
   "source": [
    "**Conclusions:** What was the difference between the first simple Gaussian and the compound model? The linear model that we added up to the gaussian model allowed the base of the Gaussian fit to have a slope and a background level. Normal Gaussians go to zero at $\\pm \\inf$; this one doesn't. "
   ]
  },
  {
   "cell_type": "markdown",
   "metadata": {},
   "source": [
    "### Fixed or bounded model parameters\n",
    "The mean value of the gaussian from our previous model indicates where the $H\\alpha$ line is. In our fit result, we can tell that it is a little off from $6563$ Angstroms. One way to fix this is to fix some of the parameters of the model. In `astropy.modeling` these are called **[fixed parameters](http://docs.astropy.org/en/stable/api/astropy.modeling.Parameter.html#astropy.modeling.Parameter.fixed)**."
   ]
  },
  {
   "cell_type": "code",
   "execution_count": 18,
   "metadata": {
    "execution": {
     "iopub.execute_input": "2022-06-15T18:50:24.878911Z",
     "iopub.status.busy": "2022-06-15T18:50:24.878701Z",
     "iopub.status.idle": "2022-06-15T18:50:24.882581Z",
     "shell.execute_reply": "2022-06-15T18:50:24.881971Z"
    }
   },
   "outputs": [],
   "source": [
    "compound_model_fixed = models.Gaussian1D(1, 6563, 10) + models.Polynomial1D(degree=1)\n",
    "compound_model_fixed.mean_0.fixed = True"
   ]
  },
  {
   "cell_type": "markdown",
   "metadata": {},
   "source": [
    "Now let's use this new model with a fixed parameter to fit the data the same way we did before."
   ]
  },
  {
   "cell_type": "code",
   "execution_count": 19,
   "metadata": {
    "execution": {
     "iopub.execute_input": "2022-06-15T18:50:24.885292Z",
     "iopub.status.busy": "2022-06-15T18:50:24.885087Z",
     "iopub.status.idle": "2022-06-15T18:50:24.905242Z",
     "shell.execute_reply": "2022-06-15T18:50:24.904679Z"
    }
   },
   "outputs": [],
   "source": [
    "fitter = fitting.LevMarLSQFitter()\n",
    "compound_fit_fixed = fitter(compound_model_fixed, lam, flux)"
   ]
  },
  {
   "cell_type": "code",
   "execution_count": 20,
   "metadata": {
    "execution": {
     "iopub.execute_input": "2022-06-15T18:50:24.907916Z",
     "iopub.status.busy": "2022-06-15T18:50:24.907698Z",
     "iopub.status.idle": "2022-06-15T18:50:25.015881Z",
     "shell.execute_reply": "2022-06-15T18:50:25.015362Z"
    }
   },
   "outputs": [
    {
     "data": {
      "image/png": "[encoded data removed]",
      "text/plain": [
       "<Figure size 576x360 with 1 Axes>"
      ]
     },
     "metadata": {
      "needs_background": "light"
     },
     "output_type": "display_data"
    }
   ],
   "source": [
    "plt.figure(figsize=(8,5))\n",
    "plt.plot(lam, flux, color='k')\n",
    "plt.plot(lam, compound_fit_fixed(lam), color='darkorange')\n",
    "plt.xlim(6300,6700)\n",
    "plt.xlabel('Wavelength (Angstroms)')\n",
    "plt.ylabel('Flux ({})'.format(units_flux))\n",
    "plt.show()"
   ]
  },
  {
   "cell_type": "code",
   "execution_count": 21,
   "metadata": {
    "execution": {
     "iopub.execute_input": "2022-06-15T18:50:25.019813Z",
     "iopub.status.busy": "2022-06-15T18:50:25.018775Z",
     "iopub.status.idle": "2022-06-15T18:50:25.025189Z",
     "shell.execute_reply": "2022-06-15T18:50:25.024574Z"
    }
   },
   "outputs": [
    {
     "name": "stdout",
     "output_type": "stream",
     "text": [
      "Model: CompoundModel\n",
      "Inputs: ('x',)\n",
      "Outputs: ('y',)\n",
      "Model set size: 1\n",
      "Expression: [0] + [1]\n",
      "Components: \n",
      "    [0]: <Gaussian1D(amplitude=1.53257471, mean=6563., stddev=28.57847527)>\n",
      "\n",
      "    [1]: <Polynomial1D(1, c0=-12.79103, c1=0.00323745)>\n",
      "Parameters:\n",
      "       amplitude_0     mean_0 ...        c0_1                c1_1        \n",
      "    ------------------ ------ ... ------------------ --------------------\n",
      "    1.5325747099672096 6563.0 ... -12.79103000338307 0.003237448628249798\n"
     ]
    }
   ],
   "source": [
    "print(compound_fit_fixed)"
   ]
  },
  {
   "cell_type": "markdown",
   "metadata": {},
   "source": [
    "We can see in the plot that the height of the fit does not match the $H\\alpha$ line height. What happend here is that we were too strict with the mean value, so we did not get a good fit. But the mean value is where we want it! Let's loosen this condition a little. Another thing we can do is to define a [**minimum and maximum value**](http://docs.astropy.org/en/stable/api/astropy.modeling.Parameter.html#astropy.modeling.Parameter.max) for the mean."
   ]
  },
  {
   "cell_type": "code",
   "execution_count": 22,
   "metadata": {
    "execution": {
     "iopub.execute_input": "2022-06-15T18:50:25.028206Z",
     "iopub.status.busy": "2022-06-15T18:50:25.027590Z",
     "iopub.status.idle": "2022-06-15T18:50:25.050075Z",
     "shell.execute_reply": "2022-06-15T18:50:25.049508Z"
    }
   },
   "outputs": [],
   "source": [
    "compound_model_bounded = models.Gaussian1D(1, 6563, 10) + models.Polynomial1D(degree=1)\n",
    "delta = 0.5\n",
    "compound_model_bounded.mean_0.max = 6563 + delta\n",
    "compound_model_bounded.mean_0.min = 6563 - delta\n",
    "\n",
    "fitter = fitting.LevMarLSQFitter()\n",
    "compound_fit_bounded = fitter(compound_model_bounded, lam, flux)"
   ]
  },
  {
   "cell_type": "code",
   "execution_count": 23,
   "metadata": {
    "execution": {
     "iopub.execute_input": "2022-06-15T18:50:25.052728Z",
     "iopub.status.busy": "2022-06-15T18:50:25.052382Z",
     "iopub.status.idle": "2022-06-15T18:50:25.160957Z",
     "shell.execute_reply": "2022-06-15T18:50:25.160340Z"
    }
   },
   "outputs": [
    {
     "data": {
      "image/png": "[encoded data removed]",
      "text/plain": [
       "<Figure size 576x360 with 1 Axes>"
      ]
     },
     "metadata": {
      "needs_background": "light"
     },
     "output_type": "display_data"
    }
   ],
   "source": [
    "plt.figure(figsize=(8,5))\n",
    "plt.plot(lam, flux, color='k')\n",
    "plt.plot(lam, compound_fit_bounded(lam), color='darkorange')\n",
    "plt.xlim(6300,6700)\n",
    "plt.xlabel('Wavelength (Angstroms)')\n",
    "plt.ylabel('Flux ({})'.format(units_flux))\n",
    "plt.show()"
   ]
  },
  {
   "cell_type": "code",
   "execution_count": 24,
   "metadata": {
    "execution": {
     "iopub.execute_input": "2022-06-15T18:50:25.164430Z",
     "iopub.status.busy": "2022-06-15T18:50:25.163992Z",
     "iopub.status.idle": "2022-06-15T18:50:25.170208Z",
     "shell.execute_reply": "2022-06-15T18:50:25.169573Z"
    }
   },
   "outputs": [
    {
     "name": "stdout",
     "output_type": "stream",
     "text": [
      "Model: CompoundModel\n",
      "Inputs: ('x',)\n",
      "Outputs: ('y',)\n",
      "Model set size: 1\n",
      "Expression: [0] + [1]\n",
      "Components: \n",
      "    [0]: <Gaussian1D(amplitude=6.65730507, mean=6563.5, stddev=2.09182676)>\n",
      "\n",
      "    [1]: <Polynomial1D(1, c0=-12.79336254, c1=0.00323995)>\n",
      "Parameters:\n",
      "       amplitude_0    mean_0 ...         c0_1                 c1_1        \n",
      "    ----------------- ------ ... ------------------- ---------------------\n",
      "    6.657305067136674 6563.5 ... -12.793362542827573 0.0032399500254038354\n"
     ]
    }
   ],
   "source": [
    "print(compound_fit_bounded)"
   ]
  },
  {
   "cell_type": "markdown",
   "metadata": {},
   "source": [
    "Better! By loosening the condition we added to the mean value, we got a better fit and the mean of the gaussian is closer to where we want it."
   ]
  },
  {
   "cell_type": "markdown",
   "metadata": {},
   "source": [
    "## Exercise\n",
    "Modify the value of delta to change the minimum and maximum values for the mean of the gaussian. Look for:\n",
    "* The better delta so the mean is closer to the real value of the $H\\alpha$ line.\n",
    "* What is the minimum delta for which the fit is still good according to the plot?"
   ]
  },
  {
   "cell_type": "markdown",
   "metadata": {},
   "source": [
    "# Custom model"
   ]
  },
  {
   "cell_type": "markdown",
   "metadata": {},
   "source": [
    "What should you do if you need a model that `astropy.modeling` doesn't provide? To solve that problem, Astropy has another tool called [custom model](http://docs.astropy.org/en/stable/modeling/new.html). Using this tool, we can create any model we want. \n",
    "\n",
    "We will describe two ways to create a custom model: \n",
    "* [basic](http://docs.astropy.org/en/stable/modeling/new.html#basic-custom-models)  \n",
    "* [full](http://docs.astropy.org/en/stable/modeling/new.html#a-step-by-step-definition-of-a-1-d-gaussian-model)\n",
    "\n",
    "We use the basic custom model when we need a simple function to fit and the full custom model when we need a more complex function. Let's use an example to understand each one of the custom models."
   ]
  },
  {
   "cell_type": "markdown",
   "metadata": {},
   "source": [
    "## Basic custom model"
   ]
  },
  {
   "cell_type": "markdown",
   "metadata": {},
   "source": [
    "An **Exponential Model** is not provided by Astropy models. Let's see one example of basic custom model for this case. First, let's simulate a dataset that follows an exponential:"
   ]
  },
  {
   "cell_type": "code",
   "execution_count": 25,
   "metadata": {
    "execution": {
     "iopub.execute_input": "2022-06-15T18:50:25.175537Z",
     "iopub.status.busy": "2022-06-15T18:50:25.174319Z",
     "iopub.status.idle": "2022-06-15T18:50:25.180084Z",
     "shell.execute_reply": "2022-06-15T18:50:25.179514Z"
    }
   },
   "outputs": [],
   "source": [
    "x1 = np.linspace(0,10,100)\n",
    "\n",
    "a = 3\n",
    "b = -2\n",
    "c = 0\n",
    "y1 = a*np.exp(b*x1+c)\n",
    "y1 += np.random.normal(0., 0.2, x1.shape)\n",
    "y1_err = np.ones(x1.shape)*0.2"
   ]
  },
  {
   "cell_type": "code",
   "execution_count": 26,
   "metadata": {
    "execution": {
     "iopub.execute_input": "2022-06-15T18:50:25.182624Z",
     "iopub.status.busy": "2022-06-15T18:50:25.182397Z",
     "iopub.status.idle": "2022-06-15T18:50:25.275405Z",
     "shell.execute_reply": "2022-06-15T18:50:25.274877Z"
    }
   },
   "outputs": [
    {
     "data": {
      "image/png": "[encoded data removed]",
      "text/plain": [
       "<Figure size 432x288 with 1 Axes>"
      ]
     },
     "metadata": {
      "needs_background": "light"
     },
     "output_type": "display_data"
    }
   ],
   "source": [
    "plt.errorbar(x1 , y1, yerr=y1_err, fmt='.')\n",
    "plt.show()"
   ]
  },
  {
   "cell_type": "markdown",
   "metadata": {},
   "source": [
    "We can define a simple custom model by specifying which parameters we want to fit."
   ]
  },
  {
   "cell_type": "code",
   "execution_count": 27,
   "metadata": {
    "execution": {
     "iopub.execute_input": "2022-06-15T18:50:25.278356Z",
     "iopub.status.busy": "2022-06-15T18:50:25.277938Z",
     "iopub.status.idle": "2022-06-15T18:50:25.282283Z",
     "shell.execute_reply": "2022-06-15T18:50:25.281789Z"
    }
   },
   "outputs": [],
   "source": [
    "@custom_model\n",
    "def exponential(x, a=1., b=1., c=1.):\n",
    "    '''\n",
    "    f(x)=a*exp(b*x + c)\n",
    "    '''\n",
    "    return a*np.exp(b*x+c)"
   ]
  },
  {
   "cell_type": "markdown",
   "metadata": {},
   "source": [
    "Now we have one more available model to use in the same way we fit data with `astropy.modeling`. "
   ]
  },
  {
   "cell_type": "code",
   "execution_count": 28,
   "metadata": {
    "execution": {
     "iopub.execute_input": "2022-06-15T18:50:25.284976Z",
     "iopub.status.busy": "2022-06-15T18:50:25.284581Z",
     "iopub.status.idle": "2022-06-15T18:50:25.294159Z",
     "shell.execute_reply": "2022-06-15T18:50:25.293659Z"
    }
   },
   "outputs": [],
   "source": [
    "exp_model = exponential(1.,-1.,1.)  \n",
    "fitter = fitting.LevMarLSQFitter()\n",
    "exp_fit = fitter(exp_model, x1, y1, weights = 1.0/y1_err**2)"
   ]
  },
  {
   "cell_type": "code",
   "execution_count": 29,
   "metadata": {
    "execution": {
     "iopub.execute_input": "2022-06-15T18:50:25.296760Z",
     "iopub.status.busy": "2022-06-15T18:50:25.296359Z",
     "iopub.status.idle": "2022-06-15T18:50:25.389663Z",
     "shell.execute_reply": "2022-06-15T18:50:25.389158Z"
    }
   },
   "outputs": [
    {
     "data": {
      "image/png": "[encoded data removed]",
      "text/plain": [
       "<Figure size 432x288 with 1 Axes>"
      ]
     },
     "metadata": {
      "needs_background": "light"
     },
     "output_type": "display_data"
    }
   ],
   "source": [
    "plt.errorbar(x1 , y1, yerr=y1_err, fmt='.')\n",
    "plt.plot(x1, exp_fit(x1))\n",
    "plt.show()"
   ]
  },
  {
   "cell_type": "code",
   "execution_count": 30,
   "metadata": {
    "execution": {
     "iopub.execute_input": "2022-06-15T18:50:25.392414Z",
     "iopub.status.busy": "2022-06-15T18:50:25.392018Z",
     "iopub.status.idle": "2022-06-15T18:50:25.396026Z",
     "shell.execute_reply": "2022-06-15T18:50:25.395521Z"
    }
   },
   "outputs": [
    {
     "name": "stdout",
     "output_type": "stream",
     "text": [
      "Model: exponential\n",
      "Inputs: ('x',)\n",
      "Outputs: ('y',)\n",
      "Model set size: 1\n",
      "Parameters:\n",
      "            a                 b                  c         \n",
      "    ----------------- ------------------ ------------------\n",
      "    1.390950534887207 -1.977277587950682 0.7329876987350561\n"
     ]
    }
   ],
   "source": [
    "print(exp_fit)"
   ]
  },
  {
   "cell_type": "markdown",
   "metadata": {},
   "source": [
    "The fit looks good in the plot. Let's check the parameters and the Reduced Chi Square value, which will give us information about the goodness of the fit."
   ]
  },
  {
   "cell_type": "code",
   "execution_count": 31,
   "metadata": {
    "execution": {
     "iopub.execute_input": "2022-06-15T18:50:25.398737Z",
     "iopub.status.busy": "2022-06-15T18:50:25.398345Z",
     "iopub.status.idle": "2022-06-15T18:50:25.401765Z",
     "shell.execute_reply": "2022-06-15T18:50:25.401276Z"
    }
   },
   "outputs": [],
   "source": [
    "def calc_reduced_chi_square(fit, x, y, yerr, N, n_free):\n",
    "    '''\n",
    "    fit (array) values for the fit\n",
    "    x,y,yerr (arrays) data\n",
    "    N total number of points\n",
    "    n_free number of parameters we are fitting\n",
    "    '''\n",
    "    return 1.0/(N-n_free)*sum(((fit - y)/yerr)**2)"
   ]
  },
  {
   "cell_type": "code",
   "execution_count": 32,
   "metadata": {
    "execution": {
     "iopub.execute_input": "2022-06-15T18:50:25.404350Z",
     "iopub.status.busy": "2022-06-15T18:50:25.403928Z",
     "iopub.status.idle": "2022-06-15T18:50:25.408397Z",
     "shell.execute_reply": "2022-06-15T18:50:25.407902Z"
    }
   },
   "outputs": [
    {
     "data": {
      "text/plain": [
       "1.143908003219309"
      ]
     },
     "execution_count": 32,
     "metadata": {},
     "output_type": "execute_result"
    }
   ],
   "source": [
    "calc_reduced_chi_square(exp_fit(x1), x1, y1, y1_err, len(x1), 3)"
   ]
  },
  {
   "cell_type": "markdown",
   "metadata": {},
   "source": [
    "The Reduced Chi Square value is close to 1. Great! This means our fit is good, and we can corroborate it by comparing the values we got for the parameters and the ones we used to simulate the data.\n",
    "\n",
    "**Note:** Fits of non-linear parameters (like in our example) are extremely dependent on initial conditions. Pay attention to the initial conditions you select."
   ]
  },
  {
   "cell_type": "markdown",
   "metadata": {},
   "source": [
    "## Exercise\n",
    "Modify the initial conditions of the fit and check yourself the relation between the best fit parameters and the initial conditions for the previous example. You can check it by looking at the Reduced Chi Square value: if it gets closer to 1 the fit is better and vice versa. To compare the quality of the fits you can take note of the Reduced Chi Square value you get for each initial condition."
   ]
  },
  {
   "cell_type": "markdown",
   "metadata": {},
   "source": [
    "## Full custom model"
   ]
  },
  {
   "cell_type": "markdown",
   "metadata": {},
   "source": [
    "What if we want to use a model from `astropy.modeling`, but with a different set of parameters? One example is the [Sine Model](http://docs.astropy.org/en/stable/api/astropy.modeling.functional_models.Sine1D.html#astropy.modeling.functional_models.Sine1D). It has a very particular definition of the frequency and phase. Let's define a new Sine function with a full custom model. Again, first let's create a simulated dataset."
   ]
  },
  {
   "cell_type": "code",
   "execution_count": 33,
   "metadata": {
    "execution": {
     "iopub.execute_input": "2022-06-15T18:50:25.411153Z",
     "iopub.status.busy": "2022-06-15T18:50:25.410935Z",
     "iopub.status.idle": "2022-06-15T18:50:25.415188Z",
     "shell.execute_reply": "2022-06-15T18:50:25.414556Z"
    }
   },
   "outputs": [],
   "source": [
    "x2 = np.linspace(0,10,100)\n",
    "a = 3\n",
    "b = 2\n",
    "c = 4\n",
    "d = 1\n",
    "y2 = a*np.sin(b*x2+c)+d\n",
    "y2 += np.random.normal(0., 0.5, x2.shape)\n",
    "y2_err = np.ones(x2.shape)*0.3"
   ]
  },
  {
   "cell_type": "code",
   "execution_count": 34,
   "metadata": {
    "execution": {
     "iopub.execute_input": "2022-06-15T18:50:25.417811Z",
     "iopub.status.busy": "2022-06-15T18:50:25.417600Z",
     "iopub.status.idle": "2022-06-15T18:50:25.499218Z",
     "shell.execute_reply": "2022-06-15T18:50:25.498701Z"
    }
   },
   "outputs": [
    {
     "data": {
      "image/png": "[encoded data removed]",
      "text/plain": [
       "<Figure size 432x288 with 1 Axes>"
      ]
     },
     "metadata": {
      "needs_background": "light"
     },
     "output_type": "display_data"
    }
   ],
   "source": [
    "plt.errorbar(x2, y2, yerr=y2_err, fmt='.')\n",
    "plt.show()"
   ]
  },
  {
   "cell_type": "markdown",
   "metadata": {},
   "source": [
    "For the full custom model we can easily set the **derivative of the function**, which is used by different [fitters](http://docs.astropy.org/en/stable/modeling/#id21), for example the `LevMarLSQFitter()`."
   ]
  },
  {
   "cell_type": "code",
   "execution_count": 35,
   "metadata": {
    "execution": {
     "iopub.execute_input": "2022-06-15T18:50:25.503171Z",
     "iopub.status.busy": "2022-06-15T18:50:25.502944Z",
     "iopub.status.idle": "2022-06-15T18:50:25.508504Z",
     "shell.execute_reply": "2022-06-15T18:50:25.507998Z"
    }
   },
   "outputs": [],
   "source": [
    "class SineNew(Fittable1DModel):\n",
    "    a = Parameter(default=1.)\n",
    "    b = Parameter(default=1.)\n",
    "    c = Parameter(default=1.)\n",
    "    d = Parameter(default=1.)\n",
    "        \n",
    "    @staticmethod\n",
    "    def evaluate(x, a, b, c, d):\n",
    "        return a*np.sin(b*x+c)+d\n",
    "    \n",
    "    @staticmethod\n",
    "    def fit_deriv(x, a, b, c, d):\n",
    "        d_a = np.sin(b*x+c)+d\n",
    "        d_b = a*np.cos(b*x+c)*x\n",
    "        d_c = a*np.sin(b*x+c)\n",
    "        d_d = np.ones(x.shape)\n",
    "        return [d_a, d_b, d_c, d_d]"
   ]
  },
  {
   "cell_type": "markdown",
   "metadata": {},
   "source": [
    "**Note** Defining default values for the fit parameters allows to define a model as `model=SineNew()`\n",
    "\n",
    "We are going to fit the data with our **new model**. Once more, the fit is very **sensitive to the initial conditions** due to the non-linearity of the parameters."
   ]
  },
  {
   "cell_type": "code",
   "execution_count": 36,
   "metadata": {
    "execution": {
     "iopub.execute_input": "2022-06-15T18:50:25.511217Z",
     "iopub.status.busy": "2022-06-15T18:50:25.510825Z",
     "iopub.status.idle": "2022-06-15T18:50:25.519922Z",
     "shell.execute_reply": "2022-06-15T18:50:25.519421Z"
    }
   },
   "outputs": [],
   "source": [
    "sine_model = SineNew(a=4.,b=2.,c=4.,d=0.)  \n",
    "fitter = fitting.LevMarLSQFitter()\n",
    "sine_fit = fitter(sine_model, x2, y2, weights = 1.0/y2_err**2)"
   ]
  },
  {
   "cell_type": "code",
   "execution_count": 37,
   "metadata": {
    "execution": {
     "iopub.execute_input": "2022-06-15T18:50:25.522501Z",
     "iopub.status.busy": "2022-06-15T18:50:25.522113Z",
     "iopub.status.idle": "2022-06-15T18:50:25.605671Z",
     "shell.execute_reply": "2022-06-15T18:50:25.605134Z"
    }
   },
   "outputs": [
    {
     "data": {
      "image/png": "[encoded data removed]",
      "text/plain": [
       "<Figure size 432x288 with 1 Axes>"
      ]
     },
     "metadata": {
      "needs_background": "light"
     },
     "output_type": "display_data"
    }
   ],
   "source": [
    "plt.errorbar(x2, y2, yerr=y2_err, fmt='.')\n",
    "plt.plot(x2,sine_fit(x2))\n",
    "plt.show()"
   ]
  },
  {
   "cell_type": "code",
   "execution_count": 38,
   "metadata": {
    "execution": {
     "iopub.execute_input": "2022-06-15T18:50:25.608561Z",
     "iopub.status.busy": "2022-06-15T18:50:25.608137Z",
     "iopub.status.idle": "2022-06-15T18:50:25.612295Z",
     "shell.execute_reply": "2022-06-15T18:50:25.611798Z"
    }
   },
   "outputs": [
    {
     "name": "stdout",
     "output_type": "stream",
     "text": [
      "Model: SineNew\n",
      "Inputs: ('x',)\n",
      "Outputs: ('y',)\n",
      "Model set size: 1\n",
      "Parameters:\n",
      "            a                  b                  c                 d         \n",
      "    ------------------ ------------------ ----------------- ------------------\n",
      "    3.0248494574465936 2.0342164909176015 3.742104552754795 1.0351849893968614\n"
     ]
    }
   ],
   "source": [
    "print(sine_fit)"
   ]
  },
  {
   "cell_type": "code",
   "execution_count": 39,
   "metadata": {
    "execution": {
     "iopub.execute_input": "2022-06-15T18:50:25.614903Z",
     "iopub.status.busy": "2022-06-15T18:50:25.614514Z",
     "iopub.status.idle": "2022-06-15T18:50:25.618951Z",
     "shell.execute_reply": "2022-06-15T18:50:25.618459Z"
    }
   },
   "outputs": [
    {
     "data": {
      "text/plain": [
       "3.2160782823055123"
      ]
     },
     "execution_count": 39,
     "metadata": {},
     "output_type": "execute_result"
    }
   ],
   "source": [
    "calc_reduced_chi_square(sine_fit(x2), x2, y2, y2_err, len(x2), 3)"
   ]
  },
  {
   "cell_type": "markdown",
   "metadata": {},
   "source": [
    "The Reduced Chi Squared value is showing the same as the plot: this fit could be improved. The Reduced Chi Squared is not close to 1 and the fit is off by small phase."
   ]
  },
  {
   "cell_type": "markdown",
   "metadata": {},
   "source": [
    "## Exercise\n",
    "Play with the initial values for the last fit and improve the Reduced Chi Squared value. \n",
    "\n",
    "**Note:** A fancy way of doing this would be to code a function which iterates over different initial conditions, optimizing the Reduced Chi Squared value. No need to do it here, but feel free to try."
   ]
  },
  {
   "cell_type": "markdown",
   "metadata": {},
   "source": [
    "## Exercise\n",
    "\n",
    "Custom models are also useful when we want to fit an **unusual function** to our data. As an example, create a full custom model to fit the following data."
   ]
  },
  {
   "cell_type": "code",
   "execution_count": 40,
   "metadata": {
    "execution": {
     "iopub.execute_input": "2022-06-15T18:50:25.621697Z",
     "iopub.status.busy": "2022-06-15T18:50:25.621484Z",
     "iopub.status.idle": "2022-06-15T18:50:25.625446Z",
     "shell.execute_reply": "2022-06-15T18:50:25.624951Z"
    }
   },
   "outputs": [],
   "source": [
    "x3 = np.linspace(-2,3,100)\n",
    "y3 = x3**2* np.exp(-0.5 * (x3)**3 / 2**2)\n",
    "y3 += np.random.normal(0., 0.5, x3.shape)\n",
    "y3_err = np.ones(x3.shape)*0.5"
   ]
  },
  {
   "cell_type": "code",
   "execution_count": 41,
   "metadata": {
    "execution": {
     "iopub.execute_input": "2022-06-15T18:50:25.628008Z",
     "iopub.status.busy": "2022-06-15T18:50:25.627604Z",
     "iopub.status.idle": "2022-06-15T18:50:25.715469Z",
     "shell.execute_reply": "2022-06-15T18:50:25.714931Z"
    }
   },
   "outputs": [
    {
     "data": {
      "image/png": "[encoded data removed]",
      "text/plain": [
       "<Figure size 432x288 with 1 Axes>"
      ]
     },
     "metadata": {
      "needs_background": "light"
     },
     "output_type": "display_data"
    }
   ],
   "source": [
    "plt.errorbar(x3,y3,yerr=y3_err,fmt='.')\n",
    "plt.show()"
   ]
  },
  {
   "cell_type": "code",
   "execution_count": null,
   "metadata": {},
   "outputs": [],
   "source": []
  }
 ],
 "metadata": {
  "language_info": {
   "codemirror_mode": {
    "name": "ipython",
    "version": 3
   },
   "file_extension": ".py",
   "mimetype": "text/x-python",
   "name": "python",
   "nbconvert_exporter": "python",
   "pygments_lexer": "ipython3",
   "version": "3.9.13"
  }
 },
 "nbformat": 4,
 "nbformat_minor": 2
}
